{
  "nbformat": 4,
  "nbformat_minor": 0,
  "metadata": {
    "colab": {
      "provenance": []
    },
    "kernelspec": {
      "name": "python3",
      "display_name": "Python 3"
    },
    "language_info": {
      "name": "python"
    }
  },
  "cells": [
    {
      "cell_type": "code",
      "execution_count": 5,
      "metadata": {
        "colab": {
          "base_uri": "https://localhost:8080/"
        },
        "id": "RJyFQ_G17L3g",
        "outputId": "74b45022-788e-463b-bd51-e101125603ea"
      },
      "outputs": [
        {
          "output_type": "stream",
          "name": "stdout",
          "text": [
            "Dataset Information:\n",
            "----------------------\n",
            "Number of Rows: 100\n",
            "Number of Columns: 9\n",
            "\n",
            "First Five Rows:\n",
            "   Index  Organization Id                     Name  \\\n",
            "0      1  FAB0d41d5b5d22c              Ferrell LLC   \n",
            "1      2  6A7EdDEA9FaDC52  Mckinney, Riley and Day   \n",
            "2      3  0bFED1ADAE4bcC1               Hester Ltd   \n",
            "3      4  2bFC1Be8a4ce42f           Holder-Sellers   \n",
            "4      5  9eE8A6a4Eb96C24              Mayer Group   \n",
            "\n",
            "                          Website           Country  \\\n",
            "0              https://price.net/  Papua New Guinea   \n",
            "1  http://www.hall-buchanan.info/           Finland   \n",
            "2       http://sullivan-reed.com/             China   \n",
            "3             https://becker.com/      Turkmenistan   \n",
            "4          http://www.brewer.com/         Mauritius   \n",
            "\n",
            "                                      Description  Founded  \\\n",
            "0             Horizontal empowering knowledgebase     1990   \n",
            "1             User-centric system-worthy leverage     2015   \n",
            "2                  Switchable scalable moratorium     1971   \n",
            "3  De-engineered systemic artificial intelligence     2004   \n",
            "4              Synchronized needs-based challenge     1991   \n",
            "\n",
            "                      Industry  Number of employees  \n",
            "0                     Plastics                 3498  \n",
            "1  Glass / Ceramics / Concrete                 4952  \n",
            "2                Public Safety                 5287  \n",
            "3                   Automotive                  921  \n",
            "4               Transportation                 7870  \n",
            "\n",
            "Size of the Dataset: 900\n",
            "\n",
            "Number of Missing Values:\n",
            "Index                  0\n",
            "Organization Id        0\n",
            "Name                   0\n",
            "Website                0\n",
            "Country                0\n",
            "Description            0\n",
            "Founded                0\n",
            "Industry               0\n",
            "Number of employees    0\n",
            "dtype: int64\n",
            "\n",
            "Statistics of Numerical Columns:\n",
            "            Index      Founded  Number of employees\n",
            "count  100.000000   100.000000           100.000000\n",
            "mean    50.500000  1995.410000          4964.860000\n",
            "std     29.011492    15.744228          2850.859799\n",
            "min      1.000000  1970.000000           236.000000\n",
            "25%     25.750000  1983.500000          2741.250000\n",
            "50%     50.500000  1995.000000          4941.500000\n",
            "75%     75.250000  2010.250000          7558.000000\n",
            "max    100.000000  2021.000000          9995.000000\n"
          ]
        }
      ],
      "source": [
        "import pandas as pd\n",
        "dataset = pd.read_csv('organizations-100.csv')\n",
        "print(\"Dataset Information:\")\n",
        "print(\"----------------------\")\n",
        "print(f\"Number of Rows: {dataset.shape[0]}\")\n",
        "print(f\"Number of Columns: {dataset.shape[1]}\")\n",
        "print(\"\\nFirst Five Rows:\")\n",
        "print(dataset.head())\n",
        "print(\"\\nSize of the Dataset:\", dataset.size)\n",
        "print(\"\\nNumber of Missing Values:\")\n",
        "print(dataset.isnull().sum())\n",
        "print(\"\\nStatistics of Numerical Columns:\")\n",
        "print(dataset.describe())"
      ]
    },
    {
      "cell_type": "markdown",
      "source": [],
      "metadata": {
        "id": "JmHgjtD57Uxw"
      }
    }
  ]
}